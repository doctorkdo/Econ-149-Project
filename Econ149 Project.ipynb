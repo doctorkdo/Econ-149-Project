{
 "cells": [
  {
   "cell_type": "markdown",
   "metadata": {},
   "source": [
    "                            Final Project\n",
    "Project Overview: The purpose of this project is to study the relationship between interest rate and unemployment rate. History shows that there is unemployment tends to be higher with higher interest rates. Higher interest rates can slow down the inflation but higher unemployment rate also means people's demand for goods decrease.\n",
    "\n",
    "We have time series data of interest rate and unemployment rate for the U.S. We will use linear regression analysis to study this.\n",
    "\n",
    "Project Structure: This project is split into three sections:\n",
    "\n",
    "In the first section,\n",
    "\n",
    "The second section is\n",
    "\n",
    "Data Report Overview of the data The main data of our project is going to be effective federal funds rate and natural rate of unemployment from St. Louis FED. It allows us to analysis interest rate and unemployment rate during the Great Recession. The subprime morgage led into financial crisis in 2008 and millions of American lost their homes and jobs. The unemployment rate was rapidly increased and the interest rate was reduced. Today, unexpected COVID-19 outbreak has increased unemployment rate and the current interest rate is near zero. We are going to use this data to represent how economic downturn has affected both interest rate and unemployment rate."
   ]
  },
  {
   "cell_type": "code",
   "execution_count": null,
   "metadata": {},
   "outputs": [],
   "source": []
  }
 ],
 "metadata": {
  "kernelspec": {
   "display_name": "Python 3",
   "language": "python",
   "name": "python3"
  },
  "language_info": {
   "codemirror_mode": {
    "name": "ipython",
    "version": 3
   },
   "file_extension": ".py",
   "mimetype": "text/x-python",
   "name": "python",
   "nbconvert_exporter": "python",
   "pygments_lexer": "ipython3",
   "version": "3.8.3"
  }
 },
 "nbformat": 4,
 "nbformat_minor": 4
}
