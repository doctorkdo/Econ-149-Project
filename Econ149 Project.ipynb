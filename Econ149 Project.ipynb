{
 "cells": [
  {
   "cell_type": "markdown",
   "metadata": {},
   "source": [
    "                                                    Final Project\n",
    "Project Overview: The purpose of this project is to study the relationship between interest rate and unemployment rate. History shows that there is unemployment tends to be higher with higher interest rates. Higher interest rates can slow down the inflation but higher unemployment rate also means people's demand for goods decrease. This project is going to prove the direct relationship between interest rate and unemployment rate.\n",
    "\n",
    "\n",
    "Project Structure: This project is split into three sections:\n",
    "\n",
    "The first section will provide a data report, which will explain where the data comes from.\n",
    "\n",
    "The second section consists of time series data of the effective federal funds rate (interest rate) and the unemployment rate.\n",
    "\n",
    "The third section will state a hypothesis. A linear regression analysis will be used to test the hypothesis and show the results. There will be a follow-up analysis on our results.\n",
    "\n",
    "\n",
    "Data Report:\n",
    "\n",
    "The data for this project comes from the Federal Reserve Economic Data (FRED). FRED provides monthly data on the U.S.'s effective federal funds rate and the unemployment rate from 1948 and onwards. It will also identify times of economic contractions. The data can be accessed at http://https://fred.stlouisfed.org/\n",
    "\n",
    "\n",
    "Important variables:\n",
    "\n",
    "The two main key variables for this project are the effective federal funds rate and the unemployment rate.\n",
    "\n",
    "FRED defines the effective federal funds rate in two main ways: \"The federal funds is the interest rate at which depository institutions trade federal funds (balances held at Federal Reserve Banks) with each other overnight... The federal funds rate is the central interest rate in the U.S. financial market. It influences other interest rates such as the prime rate, which is the rate banks charge their customers with higher credit ratings. Additionally, the federal funds rate indirectly influences longer- term interest rates such as mortgages, loans, and savings, all of which are very important to consumer wealth and confidence.(2)\"\n",
    "\n",
    "FRED defines the unemployment rate as the \"number of unemployed as a percentage of the labor force. Labor force data are restricted to people 16 years of age and older, who currently reside in 1 of the 50 states or the District of Columbia, who do not reside in institutions (e.g., penal and mental facilities, homes for the aged), and who are not on active duty in the Armed Forces."
   ]
  },
  {
   "cell_type": "code",
   "execution_count": null,
   "metadata": {},
   "outputs": [],
   "source": [
    "#Key Imports\n",
    "import numpy as np\n",
    "import matplotlib.pyplot as plt\n",
    "%matplotlib inline\n",
    "import pandas as pd\n",
    "import statsmodels.api as sm\n",
    "from statsmodels.iolib.summary2 import summary_col"
   ]
  }
 ],
 "metadata": {
  "kernelspec": {
   "display_name": "Python 3",
   "language": "python",
   "name": "python3"
  },
  "language_info": {
   "codemirror_mode": {
    "name": "ipython",
    "version": 3
   },
   "file_extension": ".py",
   "mimetype": "text/x-python",
   "name": "python",
   "nbconvert_exporter": "python",
   "pygments_lexer": "ipython3",
   "version": "3.8.3"
  }
 },
 "nbformat": 4,
 "nbformat_minor": 4
}
